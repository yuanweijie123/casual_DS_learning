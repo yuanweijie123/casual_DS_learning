{
 "cells": [
  {
   "cell_type": "code",
   "execution_count": 1,
   "metadata": {},
   "outputs": [],
   "source": [
    "import warnings\n",
    "warnings.filterwarnings('ignore')"
   ]
  },
  {
   "cell_type": "markdown",
   "metadata": {},
   "source": [
    "# Data (ETL) -- Building RDMBS"
   ]
  },
  {
   "cell_type": "code",
   "execution_count": 2,
   "metadata": {},
   "outputs": [],
   "source": [
    "%matplotlib inline"
   ]
  },
  {
   "cell_type": "markdown",
   "metadata": {},
   "source": [
    "### Objectives\n",
    "\n",
    "* investigate the structure of data acquired from a 3rd party.\n",
    "* convert denormalized data into normalized data, according to common data warehouse practices.\n",
    "* design an RDBMS database\n",
    "* write data to a datastore (RDMBS).\n",
    "\n",
    "Here is an example of one order:\n",
    "\n",
    "```\n",
    "{'items': [\n",
    "    {'name': 'coffee', 'price': 2.75},\n",
    "    {'name': 'flavor shot', 'price': 1.0}\n",
    "    ],\n",
    "'charges': {\n",
    "    'date': '01/04/21 10:22',\n",
    "    'subtotal': 3.75,\n",
    "    'taxes': 0.26,\n",
    "    'total': 4.01},\n",
    "'payment': {\n",
    "    'card_type': 'visa',\n",
    "    'last_4_card_number': '0465',\n",
    "    'zip': '21217',\n",
    "    'cardholder': 'Christina Sampson',\n",
    "    'method': 'credit_card'}}\n",
    "```\n",
    "\n",
    "**The date format is Month/Day/Year**\n",
    "\n",
    "We will look through the data to see what values are possible for each of the fields.\n",
    "The standards of normalization/denormalization for datawarehouses are slightly different or can be different than regular production RDMBS systems.\n",
    "For example, we might be tempted to create a `menu_items` table:\n",
    "\n",
    "```\n",
    "id    name                 price\n",
    "1     coffee               2.75\n",
    "2     flavor shot          1.00\n",
    "3     egg salad sandwich   4.50\n",
    "```\n",
    "\n",
    "An issue arises if we change the name to \"Kona Coffee\" because it will change it *for past purchases*.\n",
    "That is, customers in the past bought based on the name \"Coffee\" and not \"Kona Coffee\".\n",
    "This might be important.\n",
    "Even worse, if we change the price to \\\\$3.00, it changes it for all past purchases and that is clearly wrong.\n",
    "\n",
    "In a production RDMBS we often want the data to change everywhere it is used.\n",
    "If \"Steve\" changes his name to \"Sam\", we want that to be reflected in any query and report.\n",
    "For datawarehousing, though, we want to preserve historical fidelity of the data.\n",
    "This means we have a tendency to normalize *less* than we would otherwise do.\n",
    "It's worth noting that there is trend to preserve the historical fidelity of production database as well by things like soft deletes.\n",
    "\n",
    "This means the main issue for the Ordr data is storing the three main entities and creating primary/secondary keys.\n",
    "You will need to create these.\n",
    "\n",
    "All of this \"parsing and massaging\" work will be done in the `reids.py` file.\n",
    "It will contain the code to parse the JSON file and fill the database, performing whatever normalization and standardization is required as well as creating whatever primary and foreign key relationships seem reasonable.\n",
    "\n",
    "We will create the following tables in the database:\n",
    "\n",
    "1. `items`\n",
    "2. `charges`\n",
    "3. `payments`\n",
    "4. `calendar`"
   ]
  },
  {
   "cell_type": "markdown",
   "metadata": {},
   "source": [
    "### Example Play"
   ]
  },
  {
   "cell_type": "code",
   "execution_count": 3,
   "metadata": {},
   "outputs": [],
   "source": [
    "import pandas as pd\n",
    "from datetime import datetime\n",
    "import sqlite3\n",
    "from sqlite3 import Error\n",
    "\n",
    "\n",
    "def create_connection(db_file: str) -> None:\n",
    "    \"\"\" create a database connection to a SQLite database \"\"\"\n",
    "    conn = None\n",
    "    try:\n",
    "        conn = sqlite3.connect(db_file)\n",
    "        print(sqlite3.version)\n",
    "    except Error as e:\n",
    "        print(e)\n",
    "    finally:\n",
    "        if conn:\n",
    "            conn.close()\n",
    "\n",
    "# functions 'run_syntax', 'create_table', 'populate_table_csv'\n",
    "# credit to https://towardsdatascience.com/how-to-build-a-relational-database-from-csv-files-using-python-and-heroku-20ea89a55c63\n",
    "def run_syntax(db_connection: sqlite3.Connection, syntax: str) -> None:\n",
    "    \"\"\"\n",
    "    Run syntax.\n",
    "    :param db_connection: Database connection object.\n",
    "    :param syntax: Syntax for execution.\n",
    "    \"\"\"\n",
    "    cur = db_connection.cursor()\n",
    "    cur.execute(syntax)\n",
    "    cur.close()\n",
    "\n",
    "def create_table(db_file: str, schema: str, table: str) -> None:\n",
    "    \"\"\"\n",
    "    Create a table in the DB based on a schema.\n",
    "    :param schema: The table schema.\n",
    "    :param schema: The schema.\n",
    "    :param table: The name of the table.\n",
    "    \"\"\"\n",
    "    db_connection = sqlite3.connect(db_file)\n",
    "\n",
    "    # Create table if it does not yet exist\n",
    "    run_syntax(db_connection=db_connection, syntax=f\"CREATE TABLE IF NOT EXISTS {table}({schema})\")\n",
    "\n",
    "    db_connection.commit()\n",
    "    db_connection.close()\n",
    "    \n",
    "def populate_table_csv(db_file: str, table_name: str, df: pd.DataFrame) -> None:\n",
    "    \"\"\"\n",
    "    Populate a table in the database from a pandas dataframe.\n",
    "    :param table_name: The name of the table in the DB that we will add the values in df to.\n",
    "    :param df: The dataframe that we use for puplating the table.\n",
    "    \"\"\"\n",
    "    db_connection = sqlite3.connect(db_file)\n",
    "\n",
    "    # Check that all columns are present in the CSV file\n",
    "    cur = db_connection.cursor()\n",
    "    cur.execute(f\"SELECT * FROM {table_name} LIMIT 0\")\n",
    "    cur.close()\n",
    "\n",
    "    col_names = [i[0] for i in cur.description]\n",
    "    df[\"row_timestamp\"] = [datetime.now().strftime(\"%m-%d-%Y %H:%M:%S\")] * len(df.index)\n",
    "\n",
    "    missing_columns = set(col_names).difference(df.columns)\n",
    "    assert not missing_columns, f\"The following columns are missing in your CSV file: {','.join(missing_columns)}\"\n",
    "\n",
    "    # Re-order CSV\n",
    "    df = df[col_names]\n",
    "\n",
    "    # Inject data\n",
    "    for index, row in df.iterrows():\n",
    "        run_syntax(db_connection=db_connection, syntax=f\"INSERT INTO {table_name} VALUES{tuple(row.values)}\")\n",
    "    db_connection.commit()\n",
    "    db_connection.close()"
   ]
  },
  {
   "cell_type": "code",
   "execution_count": 4,
   "metadata": {},
   "outputs": [
    {
     "name": "stdout",
     "output_type": "stream",
     "text": [
      "2.6.0\n"
     ]
    }
   ],
   "source": [
    "create_connection(\"1.db\")"
   ]
  },
  {
   "cell_type": "code",
   "execution_count": 5,
   "metadata": {},
   "outputs": [],
   "source": [
    "authors_schema = \"\"\"\n",
    "row_timestamp TIMESTAMP NOT NULL,\n",
    "author_id VARCHAR PRIMARY KEY NOT NULL,\n",
    "author_first_name VARCHAR NOT NULL,\n",
    "author_last_name VARCHAR NOT NULL,\n",
    "email VARCHAR NOT NULL\n",
    "\"\"\"\n",
    "create_table(\"1.db\", authors_schema, table=\"authors\")"
   ]
  },
  {
   "cell_type": "code",
   "execution_count": 6,
   "metadata": {},
   "outputs": [],
   "source": [
    "authors_df = pd.read_csv(\"https://gist.githubusercontent.com/ngoet/1b0e8b14a4169e42d9192a9b18e73afa/raw/6edd8d67c985fe6af575726ebc12a6c6bfcfbee7/medium_authors_table.csv\")\n",
    "\n",
    "populate_table_csv('1.db', table_name=\"authors\", df=authors_df)"
   ]
  },
  {
   "cell_type": "code",
   "execution_count": 7,
   "metadata": {},
   "outputs": [
    {
     "name": "stdout",
     "output_type": "stream",
     "text": [
      "<class 'sqlite3.Connection'>\n"
     ]
    }
   ],
   "source": [
    "import sqlite3\n",
    "con = sqlite3.connect('1.db')\n",
    "print(type(con))\n",
    "\n",
    "ret = list(con.execute(\"SELECT * FROM authors LIMIT 5\"))"
   ]
  },
  {
   "cell_type": "code",
   "execution_count": 8,
   "metadata": {},
   "outputs": [
    {
     "name": "stdout",
     "output_type": "stream",
     "text": [
      "[('09-26-2021 15:39:31', 'b3f8c8a6-53ac-482a-8121-8997b29add6c', 'iukwn', 'bgzpkkj', 'iukwn.bgzpkkj@mymail.com'), ('09-26-2021 15:39:31', '76cb3db3-53cd-4110-a8c9-95847a1918fe', 'qubzy', 'allf', 'qubzy.allf@mymail.com'), ('09-26-2021 15:39:31', 'f9aad0f4-b278-4b10-8e56-26cdc5f04f3f', 'aiukvcj', 'crdu', 'aiukvcj.crdu@mymail.com'), ('09-26-2021 15:39:31', '506599db-9862-4fcb-ab21-41716a9967c9', 'tewmeof', 'sdhg', 'tewmeof.sdhg@mymail.com'), ('09-26-2021 15:39:31', '7e1a0b9c-29cf-4186-a6df-2e20ee4699e8', 'gwbrtedho', 'bdmfwpit', 'gwbrtedho.bdmfwpit@mymail.com')]\n"
     ]
    }
   ],
   "source": [
    "print(ret)"
   ]
  },
  {
   "cell_type": "code",
   "execution_count": 9,
   "metadata": {},
   "outputs": [
    {
     "data": {
      "text/html": [
       "<table>\n",
       "<tbody>\n",
       "<tr><td>09-26-2021 15:39:31</td><td>b3f8c8a6-53ac-482a-8121-8997b29add6c</td><td>iukwn    </td><td>bgzpkkj </td><td>iukwn.bgzpkkj@mymail.com     </td></tr>\n",
       "<tr><td>09-26-2021 15:39:31</td><td>76cb3db3-53cd-4110-a8c9-95847a1918fe</td><td>qubzy    </td><td>allf    </td><td>qubzy.allf@mymail.com        </td></tr>\n",
       "<tr><td>09-26-2021 15:39:31</td><td>f9aad0f4-b278-4b10-8e56-26cdc5f04f3f</td><td>aiukvcj  </td><td>crdu    </td><td>aiukvcj.crdu@mymail.com      </td></tr>\n",
       "<tr><td>09-26-2021 15:39:31</td><td>506599db-9862-4fcb-ab21-41716a9967c9</td><td>tewmeof  </td><td>sdhg    </td><td>tewmeof.sdhg@mymail.com      </td></tr>\n",
       "<tr><td>09-26-2021 15:39:31</td><td>7e1a0b9c-29cf-4186-a6df-2e20ee4699e8</td><td>gwbrtedho</td><td>bdmfwpit</td><td>gwbrtedho.bdmfwpit@mymail.com</td></tr>\n",
       "</tbody>\n",
       "</table>"
      ],
      "text/plain": [
       "'<table>\\n<tbody>\\n<tr><td>09-26-2021 15:39:31</td><td>b3f8c8a6-53ac-482a-8121-8997b29add6c</td><td>iukwn    </td><td>bgzpkkj </td><td>iukwn.bgzpkkj@mymail.com     </td></tr>\\n<tr><td>09-26-2021 15:39:31</td><td>76cb3db3-53cd-4110-a8c9-95847a1918fe</td><td>qubzy    </td><td>allf    </td><td>qubzy.allf@mymail.com        </td></tr>\\n<tr><td>09-26-2021 15:39:31</td><td>f9aad0f4-b278-4b10-8e56-26cdc5f04f3f</td><td>aiukvcj  </td><td>crdu    </td><td>aiukvcj.crdu@mymail.com      </td></tr>\\n<tr><td>09-26-2021 15:39:31</td><td>506599db-9862-4fcb-ab21-41716a9967c9</td><td>tewmeof  </td><td>sdhg    </td><td>tewmeof.sdhg@mymail.com      </td></tr>\\n<tr><td>09-26-2021 15:39:31</td><td>7e1a0b9c-29cf-4186-a6df-2e20ee4699e8</td><td>gwbrtedho</td><td>bdmfwpit</td><td>gwbrtedho.bdmfwpit@mymail.com</td></tr>\\n</tbody>\\n</table>'"
      ]
     },
     "execution_count": 9,
     "metadata": {},
     "output_type": "execute_result"
    }
   ],
   "source": [
    "from tabulate import tabulate\n",
    "\n",
    "tabulate(ret, tablefmt='html')"
   ]
  },
  {
   "cell_type": "code",
   "execution_count": 10,
   "metadata": {},
   "outputs": [],
   "source": [
    "con.close()"
   ]
  },
  {
   "cell_type": "markdown",
   "metadata": {},
   "source": [
    "### More Complicated Structure"
   ]
  },
  {
   "cell_type": "markdown",
   "metadata": {},
   "source": [
    "#### Data Investigation"
   ]
  },
  {
   "cell_type": "code",
   "execution_count": 19,
   "metadata": {},
   "outputs": [
    {
     "data": {
      "text/plain": [
       "{('coffee', 2.75),\n",
       " ('cookie', 2.5),\n",
       " ('egg & sausage', 4.75),\n",
       " ('espresso', 1.25),\n",
       " ('flavor shot', 1.0),\n",
       " ('keto', 1.75),\n",
       " ('oatmeal', 3.0),\n",
       " ('pastry', 2.5),\n",
       " ('soda', 2.5),\n",
       " ('tea', 1.25),\n",
       " ('vegan', 1.25),\n",
       " ('water', 1.0)}"
      ]
     },
     "execution_count": 19,
     "metadata": {},
     "output_type": "execute_result"
    }
   ],
   "source": [
    "import json\n",
    "f = open('reids.json',)\n",
    "data = json.load(f)\n",
    "\n",
    "num_ordr = len(data['orders'])\n",
    "items_set = set()\n",
    "\n",
    "for i in range(num_ordr):\n",
    "    items = data['orders'][i]['items']\n",
    "    for item in items:\n",
    "        items_set.add(tuple((item['name'],item['price'])))\n",
    "        \n",
    "items_set"
   ]
  },
  {
   "cell_type": "code",
   "execution_count": 22,
   "metadata": {},
   "outputs": [
    {
     "data": {
      "text/plain": [
       "{'cash', 'credit_card'}"
      ]
     },
     "execution_count": 22,
     "metadata": {},
     "output_type": "execute_result"
    }
   ],
   "source": [
    "set([order[\"payment\"][\"method\"] for order in data['orders']])"
   ]
  },
  {
   "cell_type": "code",
   "execution_count": 24,
   "metadata": {},
   "outputs": [
    {
     "name": "stdout",
     "output_type": "stream",
     "text": [
      "{'card_type': 'mastercard', 'last_4_card_number': '5056', 'zip': '21274', 'cardholder': 'Brent Morgan', 'method': 'credit_card'}\n",
      "{'card_type': 'visa', 'last_4_card_number': '6072', 'zip': '21213', 'cardholder': 'Andrew Luna', 'method': 'credit_card'}\n",
      "{'card_type': 'visa', 'last_4_card_number': '9614', 'zip': '21216', 'cardholder': 'Andrea Francis', 'method': 'credit_card'}\n",
      "{'card_type': 'visa', 'last_4_card_number': '3715', 'zip': '21230', 'cardholder': 'Eric Bruce', 'method': 'credit_card'}\n"
     ]
    }
   ],
   "source": [
    "for i in range(5):\n",
    "    pay_num = len(data['orders'][i]['payment'])\n",
    "    if pay_num != 1:\n",
    "        print(data['orders'][i]['payment'])"
   ]
  },
  {
   "cell_type": "markdown",
   "metadata": {},
   "source": [
    "#### Schema Design"
   ]
  },
  {
   "cell_type": "markdown",
   "metadata": {},
   "source": [
    "We will use 'cardholder' and 'last_4_card_number' as key to extract unique payment information."
   ]
  },
  {
   "cell_type": "markdown",
   "metadata": {},
   "source": [
    "The layout of each table seems straightforward:\n",
    "\n",
    "- charges\n",
    "    - id **Integer, primary key**\n",
    "    - date **String**\n",
    "    - subtotal **Numeric**\n",
    "    - taxes **Numeric**\n",
    "    - total **Numeric**\n",
    "    - payment_id **Integer, foreign key referring to payments table**\n",
    "- items\n",
    "    - id **Integer, Primary Key**\n",
    "    - name **String**\n",
    "    - price **Numeric**\n",
    "    - charge_id **Integer, Foreign Key referring to charges table**\n",
    "- payments\n",
    "    - id **Integer, primary key**\n",
    "    - method **String**\n",
    "    - card_type **String**\n",
    "    - cardholder **String**\n",
    "    - last_4_card_number **String**\n",
    "    - zip **String**"
   ]
  },
  {
   "cell_type": "code",
   "execution_count": 68,
   "metadata": {},
   "outputs": [],
   "source": [
    "charges_schema = \"\"\"\n",
    "id INTEGER PRIMARY KEY,\n",
    "date STRING,\n",
    "subtotal NUMERIC,\n",
    "taxes NUMERIC,\n",
    "total NUMERIC,\n",
    "payment_id INTEGER\n",
    "\"\"\"\n",
    "\n",
    "items_schema = \"\"\"\n",
    "id INTEGER PRIMARY KEY,\n",
    "name STRING,\n",
    "price NUMERIC,\n",
    "charge_id INTEGER\n",
    "\"\"\"\n",
    "\n",
    "payments_schema = \"\"\"\n",
    "id INTEGER PRIMARY KEY,\n",
    "method STRING,\n",
    "card_type STRING,\n",
    "cardholder STRING,\n",
    "last_4_card_number STRING,\n",
    "zip STRING\n",
    "\"\"\"\n",
    "\n",
    "calendar_schema = \"\"\"\n",
    "date STRING,\n",
    "day_of_week STRING\n",
    "\"\"\""
   ]
  },
  {
   "cell_type": "markdown",
   "metadata": {},
   "source": [
    "#### Data Process"
   ]
  },
  {
   "cell_type": "code",
   "execution_count": 26,
   "metadata": {},
   "outputs": [],
   "source": [
    "def extract_keys(keys,d,new_d=dict()):\n",
    "    ret = [d[key] if key in d else new_d.get(key, None) for key in keys]\n",
    "    return tuple(ret)\n",
    "    \n",
    "payment_id = 1\n",
    "payment_dict = {}\n",
    "payments_data = []\n",
    "charge_id = 1\n",
    "charges_data = []\n",
    "item_id = 1\n",
    "items_data = []\n",
    "\n",
    "for order in data['orders']:\n",
    "    pay_key = extract_keys(['cardholder','last_4_card_number'], order['payment'])\n",
    "    if pay_key in payment_dict:\n",
    "        cur_pay_id, pay_info = payment_dict[pay_key], None\n",
    "    else:\n",
    "        payment_dict[pay_key] = payment_id\n",
    "        cur_pay_id = payment_id\n",
    "        pay_info = extract_keys(['id', 'method', 'card_type', 'cardholder', 'last_4_card_number', 'zip'], order['payment'], {'id': payment_id})\n",
    "        payment_id += 1\n",
    "    if pay_info:\n",
    "        payments_data.append(pay_info)\n",
    "        \n",
    "    charge_info = extract_keys(['id', 'date', 'subtotal', 'taxes', 'total', 'payment_id'], order['charges'], {'id': charge_id, 'payment_id': cur_pay_id})\n",
    "    cur_charge_id = charge_id\n",
    "    charge_id += 1\n",
    "    charges_data.append(charge_info)\n",
    "    \n",
    "    items = order['items']\n",
    "    cur_items_info = []\n",
    "    for item in items:\n",
    "        item_info = extract_keys(['id', 'name', 'price', 'charge_id'], item, {'id': item_id, 'charge_id': cur_charge_id})\n",
    "        cur_items_info.append(item_info)\n",
    "        item_id += 1\n",
    "    items_data.extend(cur_items_info)"
   ]
  },
  {
   "cell_type": "code",
   "execution_count": 27,
   "metadata": {},
   "outputs": [
    {
     "data": {
      "text/plain": [
       "757"
      ]
     },
     "execution_count": 27,
     "metadata": {},
     "output_type": "execute_result"
    }
   ],
   "source": [
    "len(payments_data)"
   ]
  },
  {
   "cell_type": "code",
   "execution_count": 28,
   "metadata": {},
   "outputs": [
    {
     "data": {
      "text/plain": [
       "[(1, 'credit_card', 'mastercard', 'Brent Morgan', '5056', '21274'),\n",
       " (2, 'credit_card', 'visa', 'Andrew Luna', '6072', '21213'),\n",
       " (3, 'cash', None, None, None, None),\n",
       " (4, 'credit_card', 'visa', 'Andrea Francis', '9614', '21216'),\n",
       " (5, 'credit_card', 'visa', 'Eric Bruce', '3715', '21230')]"
      ]
     },
     "execution_count": 28,
     "metadata": {},
     "output_type": "execute_result"
    }
   ],
   "source": [
    "payments_data[0:5]"
   ]
  },
  {
   "cell_type": "code",
   "execution_count": 29,
   "metadata": {},
   "outputs": [
    {
     "data": {
      "text/plain": [
       "2071"
      ]
     },
     "execution_count": 29,
     "metadata": {},
     "output_type": "execute_result"
    }
   ],
   "source": [
    "len(charges_data)"
   ]
  },
  {
   "cell_type": "code",
   "execution_count": 30,
   "metadata": {},
   "outputs": [
    {
     "data": {
      "text/plain": [
       "[(1, '04/01/21 11:16', 2.75, 0.19, 2.94, 1),\n",
       " (2, '04/01/21 11:10', 4.0, 0.28, 4.28, 2),\n",
       " (3, '04/01/21 8:34', 8.5, 0.6, 9.1, 3),\n",
       " (4, '04/01/21 11:15', 4.0, 0.28, 4.28, 4),\n",
       " (5, '04/01/21 10:53', 7.5, 0.53, 8.03, 5)]"
      ]
     },
     "execution_count": 30,
     "metadata": {},
     "output_type": "execute_result"
    }
   ],
   "source": [
    "charges_data[0:5]"
   ]
  },
  {
   "cell_type": "code",
   "execution_count": 31,
   "metadata": {},
   "outputs": [
    {
     "data": {
      "text/plain": [
       "4145"
      ]
     },
     "execution_count": 31,
     "metadata": {},
     "output_type": "execute_result"
    }
   ],
   "source": [
    "len(items_data)"
   ]
  },
  {
   "cell_type": "code",
   "execution_count": 33,
   "metadata": {},
   "outputs": [
    {
     "data": {
      "text/plain": [
       "[(1, 'coffee', 2.75, 1),\n",
       " (2, 'coffee', 2.75, 2),\n",
       " (3, 'espresso', 1.25, 2),\n",
       " (4, 'coffee', 2.75, 3),\n",
       " (5, 'flavor shot', 1.0, 3)]"
      ]
     },
     "execution_count": 33,
     "metadata": {},
     "output_type": "execute_result"
    }
   ],
   "source": [
    "items_data[0:5]"
   ]
  },
  {
   "cell_type": "markdown",
   "metadata": {},
   "source": [
    "#### Populate Data"
   ]
  },
  {
   "cell_type": "code",
   "execution_count": 58,
   "metadata": {},
   "outputs": [],
   "source": [
    "!rm reids_1.db"
   ]
  },
  {
   "cell_type": "code",
   "execution_count": 59,
   "metadata": {},
   "outputs": [
    {
     "name": "stdout",
     "output_type": "stream",
     "text": [
      "2.6.0\n"
     ]
    }
   ],
   "source": [
    "create_connection(\"reids_1.db\")"
   ]
  },
  {
   "cell_type": "code",
   "execution_count": 60,
   "metadata": {},
   "outputs": [],
   "source": [
    "create_table(\"reids_1.db\", charges_schema, table=\"charges\")\n",
    "create_table(\"reids_1.db\", items_schema, table=\"items\")\n",
    "create_table(\"reids_1.db\", payments_schema, table=\"payments\")"
   ]
  },
  {
   "cell_type": "code",
   "execution_count": 61,
   "metadata": {},
   "outputs": [],
   "source": [
    "def populate_table_list(\n",
    "    db_file,\n",
    "    table_name, \n",
    "    col_names,\n",
    "    data\n",
    ") -> None:\n",
    "    db_connection = sqlite3.connect(db_file)\n",
    "    col_n = len(col_names.split(','))\n",
    "    vals = ', '.join(['?']*col_n)\n",
    "    db_connection.executemany(f\"INSERT INTO {table_name} ({col_names}) VALUES ({vals})\", data);\n",
    "    db_connection.commit();\n",
    "    \n",
    "    \n",
    "populate_table_list(\"reids_1.db\", \"payments\", \"id, method, card_type, cardholder, last_4_card_number, zip\", payments_data)\n",
    "populate_table_list(\"reids_1.db\", \"charges\", \"id, date, subtotal, taxes, total, payment_id\", charges_data)\n",
    "populate_table_list(\"reids_1.db\", \"items\", \"id, name, price, charge_id\", items_data)"
   ]
  },
  {
   "cell_type": "code",
   "execution_count": 62,
   "metadata": {},
   "outputs": [
    {
     "name": "stdout",
     "output_type": "stream",
     "text": [
      "[(757,)]\n",
      "[(2071,)]\n",
      "[(4145,)]\n"
     ]
    }
   ],
   "source": [
    "con = sqlite3.connect('reids_1.db')\n",
    "print(list(con.execute(\"SELECT COUNT(*) FROM payments\")))\n",
    "print(list(con.execute(\"SELECT COUNT(*) FROM charges\")))\n",
    "print(list(con.execute(\"SELECT COUNT(*) FROM items\")))\n",
    "con.close()"
   ]
  },
  {
   "cell_type": "markdown",
   "metadata": {},
   "source": [
    "Alternatively, we can create a 'reids.sql' file containing all schemas: "
   ]
  },
  {
   "cell_type": "markdown",
   "metadata": {},
   "source": [
    "```\n",
    "DROP TABLE IF EXISTS charges;\n",
    "CREATE TABLE charges (\n",
    "    id INTEGER PRIMARY KEY,\n",
    "    date STRING,\n",
    "    subtotal NUMERIC,\n",
    "    taxes NUMERIC,\n",
    "    total NUMERIC,\n",
    "    payment_id INTEGER\n",
    ");\n",
    "\n",
    "DROP TABLE IF EXISTS items;\n",
    "CREATE TABLE items (\n",
    "    id INTEGER PRIMARY KEY,\n",
    "    name STRING,\n",
    "    price NUMERIC,\n",
    "    charge_id INTEGER\n",
    ");\n",
    "\n",
    "DROP TABLE IF EXISTS payments;\n",
    "CREATE TABLE payments (\n",
    "    id INTEGER PRIMARY KEY,\n",
    "    method STRING,\n",
    "    card_type STRING,\n",
    "    cardholder STRING,\n",
    "    last_4_card_number STRING,\n",
    "    zip STRING\n",
    ");\n",
    "\n",
    "DROP TABLE IF EXISTS calendar;\n",
    "CREATE TABLE calendar (\n",
    "    date STRING,\n",
    "    day_of_week STRING\n",
    ");\n",
    "```"
   ]
  },
  {
   "cell_type": "markdown",
   "metadata": {},
   "source": [
    "Then run the following code chunk:"
   ]
  },
  {
   "cell_type": "code",
   "execution_count": 64,
   "metadata": {},
   "outputs": [
    {
     "name": "stdout",
     "output_type": "stream",
     "text": [
      "rm: reids_2.db: No such file or directory\n"
     ]
    }
   ],
   "source": [
    "!rm reids_2.db"
   ]
  },
  {
   "cell_type": "code",
   "execution_count": 65,
   "metadata": {},
   "outputs": [],
   "source": [
    "!sqlite3 reids_2.db < reids.sql"
   ]
  },
  {
   "cell_type": "markdown",
   "metadata": {},
   "source": [
    "#### Insert Calendar Table"
   ]
  },
  {
   "cell_type": "code",
   "execution_count": 71,
   "metadata": {},
   "outputs": [],
   "source": [
    "from datetime import datetime, timedelta\n",
    "days_of_the_week = [\"Monday\", \"Tuesday\", \"Wednesday\", \"Thursday\", \"Friday\", \"Saturday\", \"Sunday\"]\n",
    "\n",
    "calendar = []\n",
    "today = datetime(2021, 3, 31, 0, 0)\n",
    "for _ in range(0, 61):\n",
    "    today = today + timedelta(days=1)\n",
    "    date = today.strftime(\"%m/%d/%y\")\n",
    "    day = days_of_the_week[today.weekday()]\n",
    "    calendar.append((date, day))\n",
    "\n",
    "create_table(\"reids_1.db\", calendar_schema, table=\"calendar\")\n",
    "con = sqlite3.connect('reids_1.db')\n",
    "con.executemany('INSERT INTO calendar (date, day_of_week) VALUES (?, ?)', calendar);\n",
    "con.commit()\n",
    "con.close()"
   ]
  },
  {
   "cell_type": "markdown",
   "metadata": {},
   "source": [
    "#### Data Analysis"
   ]
  },
  {
   "cell_type": "code",
   "execution_count": 74,
   "metadata": {},
   "outputs": [],
   "source": [
    "con = sqlite3.connect('reids_1.db')"
   ]
  },
  {
   "cell_type": "markdown",
   "metadata": {},
   "source": [
    "**Example Question**\n",
    "\n",
    "Reid's considers someone to be a \"regular\" if they come at least 3 out of 5 days per week. How many regulars do you estimate there are and what are their names? How many days per week do they each come on average? What are the limits of this calculation based on the available data?"
   ]
  },
  {
   "cell_type": "code",
   "execution_count": 77,
   "metadata": {},
   "outputs": [
    {
     "data": {
      "text/html": [
       "<table>\n",
       "<thead>\n",
       "<tr><th>cust_name        </th><th style=\"text-align: right;\">  visit_cnt</th><th style=\"text-align: right;\">  days_per_week</th></tr>\n",
       "</thead>\n",
       "<tbody>\n",
       "<tr><td>Rebecca Garza    </td><td style=\"text-align: right;\">         35</td><td style=\"text-align: right;\">        4.16667</td></tr>\n",
       "<tr><td>Lisa Aguilar     </td><td style=\"text-align: right;\">         34</td><td style=\"text-align: right;\">        4.04762</td></tr>\n",
       "<tr><td>Gina Green       </td><td style=\"text-align: right;\">         34</td><td style=\"text-align: right;\">        4.04762</td></tr>\n",
       "<tr><td>Anthony Martin   </td><td style=\"text-align: right;\">         34</td><td style=\"text-align: right;\">        4.04762</td></tr>\n",
       "<tr><td>Wesley Garcia    </td><td style=\"text-align: right;\">         33</td><td style=\"text-align: right;\">        3.92857</td></tr>\n",
       "<tr><td>Mary Jones       </td><td style=\"text-align: right;\">         33</td><td style=\"text-align: right;\">        3.92857</td></tr>\n",
       "<tr><td>Gregory Jones    </td><td style=\"text-align: right;\">         33</td><td style=\"text-align: right;\">        3.92857</td></tr>\n",
       "<tr><td>Eric Bruce       </td><td style=\"text-align: right;\">         33</td><td style=\"text-align: right;\">        3.92857</td></tr>\n",
       "<tr><td>Cassandra Francis</td><td style=\"text-align: right;\">         33</td><td style=\"text-align: right;\">        3.92857</td></tr>\n",
       "<tr><td>Emily Dennis     </td><td style=\"text-align: right;\">         32</td><td style=\"text-align: right;\">        3.80952</td></tr>\n",
       "<tr><td>William Dunlap   </td><td style=\"text-align: right;\">         31</td><td style=\"text-align: right;\">        3.69048</td></tr>\n",
       "<tr><td>Richard Young    </td><td style=\"text-align: right;\">         31</td><td style=\"text-align: right;\">        3.69048</td></tr>\n",
       "<tr><td>Margaret Brown   </td><td style=\"text-align: right;\">         31</td><td style=\"text-align: right;\">        3.69048</td></tr>\n",
       "<tr><td>Calvin Jones     </td><td style=\"text-align: right;\">         31</td><td style=\"text-align: right;\">        3.69048</td></tr>\n",
       "<tr><td>Lindsey Hammond  </td><td style=\"text-align: right;\">         30</td><td style=\"text-align: right;\">        3.57143</td></tr>\n",
       "<tr><td>Craig Chase      </td><td style=\"text-align: right;\">         30</td><td style=\"text-align: right;\">        3.57143</td></tr>\n",
       "<tr><td>Cheryl Zamora    </td><td style=\"text-align: right;\">         30</td><td style=\"text-align: right;\">        3.57143</td></tr>\n",
       "<tr><td>Brent Morgan     </td><td style=\"text-align: right;\">         30</td><td style=\"text-align: right;\">        3.57143</td></tr>\n",
       "<tr><td>Barbara Greene   </td><td style=\"text-align: right;\">         30</td><td style=\"text-align: right;\">        3.57143</td></tr>\n",
       "<tr><td>Matthew Lewis    </td><td style=\"text-align: right;\">         29</td><td style=\"text-align: right;\">        3.45238</td></tr>\n",
       "<tr><td>David Jordan     </td><td style=\"text-align: right;\">         29</td><td style=\"text-align: right;\">        3.45238</td></tr>\n",
       "<tr><td>Craig Armstrong  </td><td style=\"text-align: right;\">         29</td><td style=\"text-align: right;\">        3.45238</td></tr>\n",
       "<tr><td>Andrew Luna      </td><td style=\"text-align: right;\">         29</td><td style=\"text-align: right;\">        3.45238</td></tr>\n",
       "<tr><td>Andrea Baker DVM </td><td style=\"text-align: right;\">         29</td><td style=\"text-align: right;\">        3.45238</td></tr>\n",
       "<tr><td>Monique Wall     </td><td style=\"text-align: right;\">         28</td><td style=\"text-align: right;\">        3.33333</td></tr>\n",
       "<tr><td>Jason Barker     </td><td style=\"text-align: right;\">         28</td><td style=\"text-align: right;\">        3.33333</td></tr>\n",
       "<tr><td>Karen Sutton     </td><td style=\"text-align: right;\">         27</td><td style=\"text-align: right;\">        3.21429</td></tr>\n",
       "<tr><td>Jamie Smith      </td><td style=\"text-align: right;\">         27</td><td style=\"text-align: right;\">        3.21429</td></tr>\n",
       "<tr><td>Daniel Long      </td><td style=\"text-align: right;\">         27</td><td style=\"text-align: right;\">        3.21429</td></tr>\n",
       "<tr><td>Andrea Francis   </td><td style=\"text-align: right;\">         27</td><td style=\"text-align: right;\">        3.21429</td></tr>\n",
       "</tbody>\n",
       "</table>"
      ],
      "text/plain": [
       "'<table>\\n<thead>\\n<tr><th>cust_name        </th><th style=\"text-align: right;\">  visit_cnt</th><th style=\"text-align: right;\">  days_per_week</th></tr>\\n</thead>\\n<tbody>\\n<tr><td>Rebecca Garza    </td><td style=\"text-align: right;\">         35</td><td style=\"text-align: right;\">        4.16667</td></tr>\\n<tr><td>Lisa Aguilar     </td><td style=\"text-align: right;\">         34</td><td style=\"text-align: right;\">        4.04762</td></tr>\\n<tr><td>Gina Green       </td><td style=\"text-align: right;\">         34</td><td style=\"text-align: right;\">        4.04762</td></tr>\\n<tr><td>Anthony Martin   </td><td style=\"text-align: right;\">         34</td><td style=\"text-align: right;\">        4.04762</td></tr>\\n<tr><td>Wesley Garcia    </td><td style=\"text-align: right;\">         33</td><td style=\"text-align: right;\">        3.92857</td></tr>\\n<tr><td>Mary Jones       </td><td style=\"text-align: right;\">         33</td><td style=\"text-align: right;\">        3.92857</td></tr>\\n<tr><td>Gregory Jones    </td><td style=\"text-align: right;\">         33</td><td style=\"text-align: right;\">        3.92857</td></tr>\\n<tr><td>Eric Bruce       </td><td style=\"text-align: right;\">         33</td><td style=\"text-align: right;\">        3.92857</td></tr>\\n<tr><td>Cassandra Francis</td><td style=\"text-align: right;\">         33</td><td style=\"text-align: right;\">        3.92857</td></tr>\\n<tr><td>Emily Dennis     </td><td style=\"text-align: right;\">         32</td><td style=\"text-align: right;\">        3.80952</td></tr>\\n<tr><td>William Dunlap   </td><td style=\"text-align: right;\">         31</td><td style=\"text-align: right;\">        3.69048</td></tr>\\n<tr><td>Richard Young    </td><td style=\"text-align: right;\">         31</td><td style=\"text-align: right;\">        3.69048</td></tr>\\n<tr><td>Margaret Brown   </td><td style=\"text-align: right;\">         31</td><td style=\"text-align: right;\">        3.69048</td></tr>\\n<tr><td>Calvin Jones     </td><td style=\"text-align: right;\">         31</td><td style=\"text-align: right;\">        3.69048</td></tr>\\n<tr><td>Lindsey Hammond  </td><td style=\"text-align: right;\">         30</td><td style=\"text-align: right;\">        3.57143</td></tr>\\n<tr><td>Craig Chase      </td><td style=\"text-align: right;\">         30</td><td style=\"text-align: right;\">        3.57143</td></tr>\\n<tr><td>Cheryl Zamora    </td><td style=\"text-align: right;\">         30</td><td style=\"text-align: right;\">        3.57143</td></tr>\\n<tr><td>Brent Morgan     </td><td style=\"text-align: right;\">         30</td><td style=\"text-align: right;\">        3.57143</td></tr>\\n<tr><td>Barbara Greene   </td><td style=\"text-align: right;\">         30</td><td style=\"text-align: right;\">        3.57143</td></tr>\\n<tr><td>Matthew Lewis    </td><td style=\"text-align: right;\">         29</td><td style=\"text-align: right;\">        3.45238</td></tr>\\n<tr><td>David Jordan     </td><td style=\"text-align: right;\">         29</td><td style=\"text-align: right;\">        3.45238</td></tr>\\n<tr><td>Craig Armstrong  </td><td style=\"text-align: right;\">         29</td><td style=\"text-align: right;\">        3.45238</td></tr>\\n<tr><td>Andrew Luna      </td><td style=\"text-align: right;\">         29</td><td style=\"text-align: right;\">        3.45238</td></tr>\\n<tr><td>Andrea Baker DVM </td><td style=\"text-align: right;\">         29</td><td style=\"text-align: right;\">        3.45238</td></tr>\\n<tr><td>Monique Wall     </td><td style=\"text-align: right;\">         28</td><td style=\"text-align: right;\">        3.33333</td></tr>\\n<tr><td>Jason Barker     </td><td style=\"text-align: right;\">         28</td><td style=\"text-align: right;\">        3.33333</td></tr>\\n<tr><td>Karen Sutton     </td><td style=\"text-align: right;\">         27</td><td style=\"text-align: right;\">        3.21429</td></tr>\\n<tr><td>Jamie Smith      </td><td style=\"text-align: right;\">         27</td><td style=\"text-align: right;\">        3.21429</td></tr>\\n<tr><td>Daniel Long      </td><td style=\"text-align: right;\">         27</td><td style=\"text-align: right;\">        3.21429</td></tr>\\n<tr><td>Andrea Francis   </td><td style=\"text-align: right;\">         27</td><td style=\"text-align: right;\">        3.21429</td></tr>\\n</tbody>\\n</table>'"
      ]
     },
     "execution_count": 77,
     "metadata": {},
     "output_type": "execute_result"
    }
   ],
   "source": [
    "query = \"\"\"\n",
    "SELECT cardholder, cnt_v, cnt_v/(42*1.0/5) AS days_per_week\n",
    "FROM (\n",
    "    SELECT \n",
    "        cardholder,\n",
    "        COUNT(*) AS cnt_v\n",
    "    FROM (\n",
    "        SELECT cardholder, SUBSTR(date, 0, 9) AS _date\n",
    "        FROM payments p\n",
    "        JOIN charges c \n",
    "        ON p.id = c.payment_id\n",
    "        WHERE cardholder IS NOT NULL\n",
    "    )a\n",
    "    GROUP BY cardholder\n",
    "    ORDER BY cnt_v DESC\n",
    ") b\n",
    "WHERE cnt_v > 25\n",
    "\"\"\"\n",
    "table = list(con.execute(query))\n",
    "tabulate(table, headers=[\"cust_name\", \"visit_cnt\", \"days_per_week\"], tablefmt='html')"
   ]
  },
  {
   "cell_type": "markdown",
   "metadata": {},
   "source": [
    "What were Reid's order count and gross revenue by day for the two month period?"
   ]
  },
  {
   "cell_type": "code",
   "execution_count": 78,
   "metadata": {},
   "outputs": [
    {
     "data": {
      "text/html": [
       "<table>\n",
       "<thead>\n",
       "<tr><th>date    </th><th style=\"text-align: right;\">  count</th><th style=\"text-align: right;\">  total</th></tr>\n",
       "</thead>\n",
       "<tbody>\n",
       "<tr><td>04/01/21</td><td style=\"text-align: right;\">     34</td><td style=\"text-align: right;\"> 188.87</td></tr>\n",
       "<tr><td>04/02/21</td><td style=\"text-align: right;\">     51</td><td style=\"text-align: right;\"> 265.11</td></tr>\n",
       "<tr><td>04/05/21</td><td style=\"text-align: right;\">     57</td><td style=\"text-align: right;\"> 339.77</td></tr>\n",
       "<tr><td>04/06/21</td><td style=\"text-align: right;\">     48</td><td style=\"text-align: right;\"> 276.09</td></tr>\n",
       "<tr><td>04/07/21</td><td style=\"text-align: right;\">     32</td><td style=\"text-align: right;\"> 188.63</td></tr>\n",
       "<tr><td>04/08/21</td><td style=\"text-align: right;\">     58</td><td style=\"text-align: right;\"> 345.92</td></tr>\n",
       "<tr><td>04/09/21</td><td style=\"text-align: right;\">     62</td><td style=\"text-align: right;\"> 341.58</td></tr>\n",
       "<tr><td>04/12/21</td><td style=\"text-align: right;\">     55</td><td style=\"text-align: right;\"> 294.54</td></tr>\n",
       "<tr><td>04/13/21</td><td style=\"text-align: right;\">     32</td><td style=\"text-align: right;\"> 167.5 </td></tr>\n",
       "<tr><td>04/14/21</td><td style=\"text-align: right;\">     54</td><td style=\"text-align: right;\"> 288.41</td></tr>\n",
       "<tr><td>04/15/21</td><td style=\"text-align: right;\">     45</td><td style=\"text-align: right;\"> 262.69</td></tr>\n",
       "<tr><td>04/16/21</td><td style=\"text-align: right;\">     75</td><td style=\"text-align: right;\"> 402.63</td></tr>\n",
       "<tr><td>04/19/21</td><td style=\"text-align: right;\">     49</td><td style=\"text-align: right;\"> 276.1 </td></tr>\n",
       "<tr><td>04/20/21</td><td style=\"text-align: right;\">     43</td><td style=\"text-align: right;\"> 265.65</td></tr>\n",
       "<tr><td>04/21/21</td><td style=\"text-align: right;\">     39</td><td style=\"text-align: right;\"> 207.62</td></tr>\n",
       "<tr><td>04/22/21</td><td style=\"text-align: right;\">     55</td><td style=\"text-align: right;\"> 316.76</td></tr>\n",
       "<tr><td>04/23/21</td><td style=\"text-align: right;\">     75</td><td style=\"text-align: right;\"> 408.49</td></tr>\n",
       "<tr><td>04/26/21</td><td style=\"text-align: right;\">     47</td><td style=\"text-align: right;\"> 256.32</td></tr>\n",
       "<tr><td>04/27/21</td><td style=\"text-align: right;\">     46</td><td style=\"text-align: right;\"> 240.78</td></tr>\n",
       "<tr><td>04/28/21</td><td style=\"text-align: right;\">     44</td><td style=\"text-align: right;\"> 267.53</td></tr>\n",
       "<tr><td>04/29/21</td><td style=\"text-align: right;\">     50</td><td style=\"text-align: right;\"> 259.79</td></tr>\n",
       "<tr><td>04/30/21</td><td style=\"text-align: right;\">     53</td><td style=\"text-align: right;\"> 284.13</td></tr>\n",
       "<tr><td>05/03/21</td><td style=\"text-align: right;\">     48</td><td style=\"text-align: right;\"> 285.47</td></tr>\n",
       "<tr><td>05/04/21</td><td style=\"text-align: right;\">     47</td><td style=\"text-align: right;\"> 263.49</td></tr>\n",
       "<tr><td>05/05/21</td><td style=\"text-align: right;\">     35</td><td style=\"text-align: right;\"> 188.86</td></tr>\n",
       "<tr><td>05/06/21</td><td style=\"text-align: right;\">     58</td><td style=\"text-align: right;\"> 359.81</td></tr>\n",
       "<tr><td>05/07/21</td><td style=\"text-align: right;\">     63</td><td style=\"text-align: right;\"> 355.28</td></tr>\n",
       "<tr><td>05/10/21</td><td style=\"text-align: right;\">     51</td><td style=\"text-align: right;\"> 301.24</td></tr>\n",
       "<tr><td>05/11/21</td><td style=\"text-align: right;\">     30</td><td style=\"text-align: right;\"> 171.73</td></tr>\n",
       "<tr><td>05/12/21</td><td style=\"text-align: right;\">     33</td><td style=\"text-align: right;\"> 202.26</td></tr>\n",
       "<tr><td>05/13/21</td><td style=\"text-align: right;\">     59</td><td style=\"text-align: right;\"> 315.68</td></tr>\n",
       "<tr><td>05/14/21</td><td style=\"text-align: right;\">     51</td><td style=\"text-align: right;\"> 263.23</td></tr>\n",
       "<tr><td>05/17/21</td><td style=\"text-align: right;\">     30</td><td style=\"text-align: right;\"> 170.68</td></tr>\n",
       "<tr><td>05/18/21</td><td style=\"text-align: right;\">     48</td><td style=\"text-align: right;\"> 274.5 </td></tr>\n",
       "<tr><td>05/19/21</td><td style=\"text-align: right;\">     55</td><td style=\"text-align: right;\"> 296.44</td></tr>\n",
       "<tr><td>05/20/21</td><td style=\"text-align: right;\">     59</td><td style=\"text-align: right;\"> 331.69</td></tr>\n",
       "<tr><td>05/21/21</td><td style=\"text-align: right;\">     63</td><td style=\"text-align: right;\"> 333.32</td></tr>\n",
       "<tr><td>05/24/21</td><td style=\"text-align: right;\">     48</td><td style=\"text-align: right;\"> 288.93</td></tr>\n",
       "<tr><td>05/25/21</td><td style=\"text-align: right;\">     55</td><td style=\"text-align: right;\"> 318.1 </td></tr>\n",
       "<tr><td>05/26/21</td><td style=\"text-align: right;\">     39</td><td style=\"text-align: right;\"> 222.31</td></tr>\n",
       "<tr><td>05/27/21</td><td style=\"text-align: right;\">     45</td><td style=\"text-align: right;\"> 255.49</td></tr>\n",
       "<tr><td>05/28/21</td><td style=\"text-align: right;\">     50</td><td style=\"text-align: right;\"> 273.43</td></tr>\n",
       "</tbody>\n",
       "</table>"
      ],
      "text/plain": [
       "'<table>\\n<thead>\\n<tr><th>date    </th><th style=\"text-align: right;\">  count</th><th style=\"text-align: right;\">  total</th></tr>\\n</thead>\\n<tbody>\\n<tr><td>04/01/21</td><td style=\"text-align: right;\">     34</td><td style=\"text-align: right;\"> 188.87</td></tr>\\n<tr><td>04/02/21</td><td style=\"text-align: right;\">     51</td><td style=\"text-align: right;\"> 265.11</td></tr>\\n<tr><td>04/05/21</td><td style=\"text-align: right;\">     57</td><td style=\"text-align: right;\"> 339.77</td></tr>\\n<tr><td>04/06/21</td><td style=\"text-align: right;\">     48</td><td style=\"text-align: right;\"> 276.09</td></tr>\\n<tr><td>04/07/21</td><td style=\"text-align: right;\">     32</td><td style=\"text-align: right;\"> 188.63</td></tr>\\n<tr><td>04/08/21</td><td style=\"text-align: right;\">     58</td><td style=\"text-align: right;\"> 345.92</td></tr>\\n<tr><td>04/09/21</td><td style=\"text-align: right;\">     62</td><td style=\"text-align: right;\"> 341.58</td></tr>\\n<tr><td>04/12/21</td><td style=\"text-align: right;\">     55</td><td style=\"text-align: right;\"> 294.54</td></tr>\\n<tr><td>04/13/21</td><td style=\"text-align: right;\">     32</td><td style=\"text-align: right;\"> 167.5 </td></tr>\\n<tr><td>04/14/21</td><td style=\"text-align: right;\">     54</td><td style=\"text-align: right;\"> 288.41</td></tr>\\n<tr><td>04/15/21</td><td style=\"text-align: right;\">     45</td><td style=\"text-align: right;\"> 262.69</td></tr>\\n<tr><td>04/16/21</td><td style=\"text-align: right;\">     75</td><td style=\"text-align: right;\"> 402.63</td></tr>\\n<tr><td>04/19/21</td><td style=\"text-align: right;\">     49</td><td style=\"text-align: right;\"> 276.1 </td></tr>\\n<tr><td>04/20/21</td><td style=\"text-align: right;\">     43</td><td style=\"text-align: right;\"> 265.65</td></tr>\\n<tr><td>04/21/21</td><td style=\"text-align: right;\">     39</td><td style=\"text-align: right;\"> 207.62</td></tr>\\n<tr><td>04/22/21</td><td style=\"text-align: right;\">     55</td><td style=\"text-align: right;\"> 316.76</td></tr>\\n<tr><td>04/23/21</td><td style=\"text-align: right;\">     75</td><td style=\"text-align: right;\"> 408.49</td></tr>\\n<tr><td>04/26/21</td><td style=\"text-align: right;\">     47</td><td style=\"text-align: right;\"> 256.32</td></tr>\\n<tr><td>04/27/21</td><td style=\"text-align: right;\">     46</td><td style=\"text-align: right;\"> 240.78</td></tr>\\n<tr><td>04/28/21</td><td style=\"text-align: right;\">     44</td><td style=\"text-align: right;\"> 267.53</td></tr>\\n<tr><td>04/29/21</td><td style=\"text-align: right;\">     50</td><td style=\"text-align: right;\"> 259.79</td></tr>\\n<tr><td>04/30/21</td><td style=\"text-align: right;\">     53</td><td style=\"text-align: right;\"> 284.13</td></tr>\\n<tr><td>05/03/21</td><td style=\"text-align: right;\">     48</td><td style=\"text-align: right;\"> 285.47</td></tr>\\n<tr><td>05/04/21</td><td style=\"text-align: right;\">     47</td><td style=\"text-align: right;\"> 263.49</td></tr>\\n<tr><td>05/05/21</td><td style=\"text-align: right;\">     35</td><td style=\"text-align: right;\"> 188.86</td></tr>\\n<tr><td>05/06/21</td><td style=\"text-align: right;\">     58</td><td style=\"text-align: right;\"> 359.81</td></tr>\\n<tr><td>05/07/21</td><td style=\"text-align: right;\">     63</td><td style=\"text-align: right;\"> 355.28</td></tr>\\n<tr><td>05/10/21</td><td style=\"text-align: right;\">     51</td><td style=\"text-align: right;\"> 301.24</td></tr>\\n<tr><td>05/11/21</td><td style=\"text-align: right;\">     30</td><td style=\"text-align: right;\"> 171.73</td></tr>\\n<tr><td>05/12/21</td><td style=\"text-align: right;\">     33</td><td style=\"text-align: right;\"> 202.26</td></tr>\\n<tr><td>05/13/21</td><td style=\"text-align: right;\">     59</td><td style=\"text-align: right;\"> 315.68</td></tr>\\n<tr><td>05/14/21</td><td style=\"text-align: right;\">     51</td><td style=\"text-align: right;\"> 263.23</td></tr>\\n<tr><td>05/17/21</td><td style=\"text-align: right;\">     30</td><td style=\"text-align: right;\"> 170.68</td></tr>\\n<tr><td>05/18/21</td><td style=\"text-align: right;\">     48</td><td style=\"text-align: right;\"> 274.5 </td></tr>\\n<tr><td>05/19/21</td><td style=\"text-align: right;\">     55</td><td style=\"text-align: right;\"> 296.44</td></tr>\\n<tr><td>05/20/21</td><td style=\"text-align: right;\">     59</td><td style=\"text-align: right;\"> 331.69</td></tr>\\n<tr><td>05/21/21</td><td style=\"text-align: right;\">     63</td><td style=\"text-align: right;\"> 333.32</td></tr>\\n<tr><td>05/24/21</td><td style=\"text-align: right;\">     48</td><td style=\"text-align: right;\"> 288.93</td></tr>\\n<tr><td>05/25/21</td><td style=\"text-align: right;\">     55</td><td style=\"text-align: right;\"> 318.1 </td></tr>\\n<tr><td>05/26/21</td><td style=\"text-align: right;\">     39</td><td style=\"text-align: right;\"> 222.31</td></tr>\\n<tr><td>05/27/21</td><td style=\"text-align: right;\">     45</td><td style=\"text-align: right;\"> 255.49</td></tr>\\n<tr><td>05/28/21</td><td style=\"text-align: right;\">     50</td><td style=\"text-align: right;\"> 273.43</td></tr>\\n</tbody>\\n</table>'"
      ]
     },
     "execution_count": 78,
     "metadata": {},
     "output_type": "execute_result"
    }
   ],
   "source": [
    "query_cnt = \"\"\"\n",
    "SELECT \n",
    "    SUBSTR(date, 0, INSTR(date, ' ')) AS _date, \n",
    "    COUNT(*) AS _count,\n",
    "    SUM(total) AS _total\n",
    "FROM charges\n",
    "GROUP BY _date\n",
    "ORDER BY _date\n",
    "\"\"\"\n",
    "ret = list(con.execute(query_cnt))\n",
    "tabulate(ret, headers=[\"date\", \"count\", \"total\"], tablefmt='html')"
   ]
  },
  {
   "cell_type": "code",
   "execution_count": 79,
   "metadata": {},
   "outputs": [],
   "source": [
    "import seaborn as sns\n",
    "import matplotlib.pyplot as plt"
   ]
  },
  {
   "cell_type": "code",
   "execution_count": 87,
   "metadata": {},
   "outputs": [
    {
     "data": {
      "image/png": "[encoded data removed]",
      "text/plain": [
       "<Figure size 1440x432 with 1 Axes>"
      ]
     },
     "metadata": {
      "needs_background": "light"
     },
     "output_type": "display_data"
    }
   ],
   "source": [
    "x = range(len(ret))\n",
    "\n",
    "figure = plt.figure(figsize=(20, 6))\n",
    "\n",
    "axes = figure.add_subplot(1, 1, 1)\n",
    "axes.bar(x, [r[1] for r in ret], align=\"center\")\n",
    "axes.set_xticks(x)\n",
    "axes.set_xticklabels([r[0] for r in ret])\n",
    "axes.set_title( \"Reid's Sales per Day\")\n",
    "axes.set_xlabel(\"Day\")\n",
    "axes.set_ylabel(\"Sales ($)\")\n",
    "plt.setp(axes.xaxis.get_majorticklabels(), rotation=90)\n",
    "\n",
    "plt.show()\n",
    "plt.close();"
   ]
  },
  {
   "cell_type": "code",
   "execution_count": null,
   "metadata": {},
   "outputs": [],
   "source": []
  },
  {
   "cell_type": "markdown",
   "metadata": {},
   "source": [
    "\n"
   ]
  },
  {
   "cell_type": "markdown",
   "metadata": {},
   "source": [
    "\n"
   ]
  }
 ],
 "metadata": {
  "jupytext": {
   "formats": "ipynb,md"
  },
  "kernelspec": {
   "display_name": "Python (en685648)",
   "language": "python",
   "name": "en685648"
  },
  "language_info": {
   "codemirror_mode": {
    "name": "ipython",
    "version": 3
   },
   "file_extension": ".py",
   "mimetype": "text/x-python",
   "name": "python",
   "nbconvert_exporter": "python",
   "pygments_lexer": "ipython3",
   "version": "3.8.10"
  }
 },
 "nbformat": 4,
 "nbformat_minor": 5
}
